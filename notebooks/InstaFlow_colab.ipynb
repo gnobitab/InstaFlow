{
  "nbformat": 4,
  "nbformat_minor": 0,
  "metadata": {
    "colab": {
      "provenance": [],
      "machine_shape": "hm",
      "gpuType": "T4"
    },
    "kernelspec": {
      "name": "python3",
      "display_name": "Python 3"
    },
    "language_info": {
      "name": "python"
    },
    "accelerator": "GPU"
  },
  "cells": [
    {
      "cell_type": "code",
      "execution_count": 1,
      "metadata": {
        "cellView": "form",
        "id": "p-34SzE510fR"
      },
      "outputs": [],
      "source": [
        "#@title 1. Setup\n",
        "from IPython.display import clear_output\n",
        "!git clone https://github.com/gnobitab/InstaFlow InstaFlow_Colab\n",
        "%pip install torch torchvision torchaudio diffusers transformers accelerate gradio controlnet_aux\n",
        "%mkdir /content/imgs\n",
        "%cd /content/InstaFlow_Colab/code\n",
        "clear_output()"
      ]
    },
    {
      "cell_type": "code",
      "source": [
        "#@title 2. Load model\n",
        "import torch\n",
        "\n",
        "model = 'XCLiu/instaflow_0_9B_from_sd_1_5' # @param [\"XCLiu/instaflow_0_9B_from_sd_1_5\"] {allow-input: true}\n",
        "torch_dtype = torch.float16 # @param [torch.float16,torch.float32]{type:\"raw\"}\n",
        "\n",
        "from pipeline_rf import RectifiedFlowPipeline\n",
        "\n",
        "\n",
        "pipe = RectifiedFlowPipeline.from_pretrained(\"XCLiu/instaflow_0_9B_from_sd_1_5\", torch_dtype=torch.float16)\n",
        "### switch to torch.float32 for higher quality\n",
        "pipe.requires_safety_checker = False\n",
        "pipe.safety_checker = None\n",
        "pipe.to(\"cuda\")  ### if GPU is not available, comment this line\n",
        "\n",
        "clear_output()"
      ],
      "metadata": {
        "cellView": "form",
        "id": "HKjAb1I_4Eoh"
      },
      "execution_count": 2,
      "outputs": []
    },
    {
      "cell_type": "code",
      "source": [
        "#@title 3. Run\n",
        "prompt = \"A high-resolution photograph of a waterfall in autumn; muted tone\" # @param\n",
        "number_of_images = 3 # @param\n",
        "display_images = True # @param {type:\"boolean\"}\n",
        "save_images = True # @param {type:\"boolean\"}\n",
        "\n",
        "from matplotlib import pyplot as plt\n",
        "import matplotlib.image as mpimg\n",
        "\n",
        "### InstaFlow-0.9B is a one-step text-to-image generative model.\n",
        "### It only allows num_inference_steps=1 and guidance_scale=0.0; it does not support negative prompts (for now)\n",
        "import time\n",
        "for i in range(0,number_of_images):\n",
        "    time_0=time.time()\n",
        "    images = pipe(prompt=prompt,\n",
        "                num_inference_steps=1,\n",
        "                guidance_scale=0.0).images\n",
        "    print(f\"time: {(time.time()-time_0)*1000}\")\n",
        "\n",
        "    if display_images:\n",
        "      plt.imshow(images[0])\n",
        "      plt.axis(\"off\")\n",
        "      plt.show()\n",
        "    if save_images:\n",
        "      img_path = f\"/content/imgs/image{i}.png\"\n",
        "      images[0].save(img_path)\n",
        "      print(img_path)"
      ],
      "metadata": {
        "cellView": "form",
        "id": "YOVrsxZT3FB0"
      },
      "execution_count": null,
      "outputs": []
    }
  ]
}